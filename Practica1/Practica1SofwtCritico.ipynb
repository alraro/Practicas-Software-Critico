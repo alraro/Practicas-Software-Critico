{
 "cells": [
  {
   "cell_type": "markdown",
   "id": "2e6537b9",
   "metadata": {},
   "source": [
    "# Practica 1 Alfonso Ramos Rojas"
   ]
  },
  {
   "cell_type": "markdown",
   "id": "944db8a5",
   "metadata": {},
   "source": [
    "### Cargar las librerias\n",
    "\n",
    "- **Numpy (np)**: operaciones numéricas y manipulación de arrays; aquí se usa para crear ventanas temporales (np.lib.stride_tricks.sliding_window_view) y cálculos vectorizados.\n",
    "- **Pandas (pd)**: lectura y manejo de datos tabulares/series temporales (pd.read_csv, index datetime, selección de columnas).\n",
    "- **Matplotlib.pyplot (plt)**: visualización de series temporales y marcado de anomalías (plot, scatter, show).\n",
    "- **Tensorflow (tf)**: framework de deep learning y backend para Keras.\n",
    "- **keras.models.Sequential**: contenedor secuencial para construir la RNN/modelo.\n",
    "- **keras.layers.LSTM**: capa recurrente LSTM para modelado de dependencias temporales.\n",
    "- **keras.layers.Dense**: capa densa/final para producir la predicción.\n",
    "- **joblib**: guardar y cargar objetos/ modelosh (serialización eficiente)."
   ]
  },
  {
   "cell_type": "code",
   "execution_count": 55,
   "id": "02ded351",
   "metadata": {},
   "outputs": [],
   "source": [
    "import numpy as np\n",
    "import pandas as pd\n",
    "import matplotlib.pyplot as plt\n",
    "import tensorflow as tf\n",
    "from keras.models import Sequential\n",
    "from keras.layers import LSTM, Dense\n",
    "import joblib"
   ]
  },
  {
   "cell_type": "markdown",
   "id": "d0d06399",
   "metadata": {},
   "source": [
    "### Cargar datos\n",
    "Cargamos todo desde el csv de datos dado"
   ]
  },
  {
   "cell_type": "code",
   "execution_count": 68,
   "id": "69aa7a84",
   "metadata": {},
   "outputs": [
    {
     "name": "stdout",
     "output_type": "stream",
     "text": [
      "Datos cargados:               timestamp      value\n",
      "0  2013-07-04 00:00:00  69.880835\n",
      "1  2013-07-04 01:00:00  71.220227\n",
      "2  2013-07-04 02:00:00  70.877805\n",
      "3  2013-07-04 03:00:00  68.959400\n",
      "4  2013-07-04 04:00:00  69.283551\n"
     ]
    }
   ],
   "source": [
    "df = pd.read_csv(\"datos.csv\",parse_dates=True)\n",
    "print(\"Datos cargados: \", df.head(5))"
   ]
  },
  {
   "cell_type": "markdown",
   "id": "f6aaabb9",
   "metadata": {},
   "source": [
    "### Creamos las ventanas temporales\n"
   ]
  },
  {
   "cell_type": "code",
   "execution_count": 70,
   "id": "3f255f19",
   "metadata": {},
   "outputs": [
    {
     "name": "stdout",
     "output_type": "stream",
     "text": [
      "Ventanas temporales: \n",
      " [[69.88083514 71.22022706 70.87780496 ... 71.55307612 72.18769545\n",
      "  70.64995744]\n",
      " [71.22022706 70.87780496 68.95939994 ... 72.18769545 70.64995744\n",
      "  71.34274211]\n",
      " [70.87780496 68.95939994 69.28355102 ... 70.64995744 71.34274211\n",
      "  71.5867281 ]\n",
      " ...\n",
      " [71.96861391 72.11443201 73.00783047 ... 72.37020644 72.17295622\n",
      "  72.04656545]\n",
      " [72.11443201 73.00783047 73.08768457 ... 72.17295622 72.04656545\n",
      "  71.82522648]\n",
      " [73.00783047 73.08768457 71.32243816 ... 72.04656545 71.82522648\n",
      "  72.58408858]]\n"
     ]
    }
   ],
   "source": [
    "n_steps = 24\n",
    "windows = np.lib.stride_tricks.sliding_window_view(df[\"value\"], window_shape=(n_steps))\n",
    "print(\"Ventanas temporales: \\n\", windows)"
   ]
  },
  {
   "cell_type": "markdown",
   "id": "fe898651",
   "metadata": {},
   "source": [
    "### Creamos datos de entrenamiento"
   ]
  },
  {
   "cell_type": "code",
   "execution_count": 58,
   "id": "6ed61f49",
   "metadata": {},
   "outputs": [
    {
     "name": "stdout",
     "output_type": "stream",
     "text": [
      "X: \n",
      " [[[69.88083514]\n",
      "  [71.22022706]\n",
      "  [70.87780496]\n",
      "  ...\n",
      "  [71.55307612]\n",
      "  [72.18769545]\n",
      "  [70.64995744]]\n",
      "\n",
      " [[71.22022706]\n",
      "  [70.87780496]\n",
      "  [68.95939994]\n",
      "  ...\n",
      "  [72.18769545]\n",
      "  [70.64995744]\n",
      "  [71.34274211]]\n",
      "\n",
      " [[70.87780496]\n",
      "  [68.95939994]\n",
      "  [69.28355102]\n",
      "  ...\n",
      "  [70.64995744]\n",
      "  [71.34274211]\n",
      "  [71.5867281 ]]\n",
      "\n",
      " ...\n",
      "\n",
      " [[72.68078037]\n",
      "  [71.96861391]\n",
      "  [72.11443201]\n",
      "  ...\n",
      "  [70.45571697]\n",
      "  [72.37020644]\n",
      "  [72.17295622]]\n",
      "\n",
      " [[71.96861391]\n",
      "  [72.11443201]\n",
      "  [73.00783047]\n",
      "  ...\n",
      "  [72.37020644]\n",
      "  [72.17295622]\n",
      "  [72.04656545]]\n",
      "\n",
      " [[72.11443201]\n",
      "  [73.00783047]\n",
      "  [73.08768457]\n",
      "  ...\n",
      "  [72.17295622]\n",
      "  [72.04656545]\n",
      "  [71.82522648]]]\n",
      "y: \n",
      " [71.34274211 71.5867281  70.97700116 ... 72.04656545 71.82522648\n",
      " 72.58408858]\n"
     ]
    }
   ],
   "source": [
    "X = windows[:-1]\n",
    "y = df[\"value\"].values[n_steps:]\n",
    "X = X.reshape((X.shape[0], X.shape[1], 1))\n",
    "print(\"X: \\n\", X)\n",
    "print(\"y: \\n\", y)"
   ]
  },
  {
   "cell_type": "markdown",
   "id": "9cc7fa1b",
   "metadata": {},
   "source": [
    "### Creamos el modelo"
   ]
  },
  {
   "cell_type": "code",
   "execution_count": null,
   "id": "65278bfa",
   "metadata": {},
   "outputs": [
    {
     "name": "stderr",
     "output_type": "stream",
     "text": [
      "c:\\Cosas\\CosasPython\\PracticasSoftCritico\\venv\\Lib\\site-packages\\keras\\src\\layers\\rnn\\rnn.py:199: UserWarning: Do not pass an `input_shape`/`input_dim` argument to a layer. When using Sequential models, prefer using an `Input(shape)` object as the first layer in the model instead.\n",
      "  super().__init__(**kwargs)\n"
     ]
    }
   ],
   "source": [
    "model = Sequential([\n",
    "\tLSTM(50, activation='tanh', input_shape=(n_steps, 1)),\n",
    "\tDense(1)\n",
    "])\n",
    "\n",
    "model.compile(optimizer='adam', loss='mse')\n"
   ]
  },
  {
   "cell_type": "markdown",
   "id": "1b9f5e10",
   "metadata": {},
   "source": [
    "### Entrenamos el modelo con las ventanas"
   ]
  },
  {
   "cell_type": "code",
   "execution_count": null,
   "id": "274035d1",
   "metadata": {},
   "outputs": [
    {
     "name": "stdout",
     "output_type": "stream",
     "text": [
      "Epoch 1/50\n",
      "\u001b[1m227/227\u001b[0m \u001b[32m━━━━━━━━━━━━━━━━━━━━\u001b[0m\u001b[37m\u001b[0m \u001b[1m5s\u001b[0m 10ms/step - loss: 3882.1982\n",
      "Epoch 2/50\n",
      "\u001b[1m227/227\u001b[0m \u001b[32m━━━━━━━━━━━━━━━━━━━━\u001b[0m\u001b[37m\u001b[0m \u001b[1m2s\u001b[0m 10ms/step - loss: 2472.7563\n",
      "Epoch 3/50\n",
      "\u001b[1m227/227\u001b[0m \u001b[32m━━━━━━━━━━━━━━━━━━━━\u001b[0m\u001b[37m\u001b[0m \u001b[1m2s\u001b[0m 10ms/step - loss: 1710.2369\n",
      "Epoch 4/50\n",
      "\u001b[1m227/227\u001b[0m \u001b[32m━━━━━━━━━━━━━━━━━━━━\u001b[0m\u001b[37m\u001b[0m \u001b[1m2s\u001b[0m 10ms/step - loss: 1156.9888\n",
      "Epoch 5/50\n",
      "\u001b[1m227/227\u001b[0m \u001b[32m━━━━━━━━━━━━━━━━━━━━\u001b[0m\u001b[37m\u001b[0m \u001b[1m2s\u001b[0m 10ms/step - loss: 757.7831\n",
      "Epoch 6/50\n",
      "\u001b[1m227/227\u001b[0m \u001b[32m━━━━━━━━━━━━━━━━━━━━\u001b[0m\u001b[37m\u001b[0m \u001b[1m3s\u001b[0m 11ms/step - loss: 477.7315\n",
      "Epoch 7/50\n",
      "\u001b[1m227/227\u001b[0m \u001b[32m━━━━━━━━━━━━━━━━━━━━\u001b[0m\u001b[37m\u001b[0m \u001b[1m3s\u001b[0m 11ms/step - loss: 289.0660\n",
      "Epoch 8/50\n",
      "\u001b[1m227/227\u001b[0m \u001b[32m━━━━━━━━━━━━━━━━━━━━\u001b[0m\u001b[37m\u001b[0m \u001b[1m2s\u001b[0m 11ms/step - loss: 168.2458\n",
      "Epoch 9/50\n",
      "\u001b[1m227/227\u001b[0m \u001b[32m━━━━━━━━━━━━━━━━━━━━\u001b[0m\u001b[37m\u001b[0m \u001b[1m3s\u001b[0m 11ms/step - loss: 95.4801 \n",
      "Epoch 10/50\n",
      "\u001b[1m227/227\u001b[0m \u001b[32m━━━━━━━━━━━━━━━━━━━━\u001b[0m\u001b[37m\u001b[0m \u001b[1m2s\u001b[0m 11ms/step - loss: 54.7751\n",
      "Epoch 11/50\n",
      "\u001b[1m227/227\u001b[0m \u001b[32m━━━━━━━━━━━━━━━━━━━━\u001b[0m\u001b[37m\u001b[0m \u001b[1m3s\u001b[0m 11ms/step - loss: 33.8704\n",
      "Epoch 12/50\n",
      "\u001b[1m227/227\u001b[0m \u001b[32m━━━━━━━━━━━━━━━━━━━━\u001b[0m\u001b[37m\u001b[0m \u001b[1m2s\u001b[0m 11ms/step - loss: 24.2176\n",
      "Epoch 13/50\n",
      "\u001b[1m227/227\u001b[0m \u001b[32m━━━━━━━━━━━━━━━━━━━━\u001b[0m\u001b[37m\u001b[0m \u001b[1m2s\u001b[0m 11ms/step - loss: 20.1261\n",
      "Epoch 14/50\n",
      "\u001b[1m227/227\u001b[0m \u001b[32m━━━━━━━━━━━━━━━━━━━━\u001b[0m\u001b[37m\u001b[0m \u001b[1m3s\u001b[0m 11ms/step - loss: 16.9203\n",
      "Epoch 15/50\n",
      "\u001b[1m227/227\u001b[0m \u001b[32m━━━━━━━━━━━━━━━━━━━━\u001b[0m\u001b[37m\u001b[0m \u001b[1m3s\u001b[0m 13ms/step - loss: 12.6418\n",
      "Epoch 16/50\n",
      "\u001b[1m227/227\u001b[0m \u001b[32m━━━━━━━━━━━━━━━━━━━━\u001b[0m\u001b[37m\u001b[0m \u001b[1m3s\u001b[0m 14ms/step - loss: 8.1099\n",
      "Epoch 17/50\n",
      "\u001b[1m227/227\u001b[0m \u001b[32m━━━━━━━━━━━━━━━━━━━━\u001b[0m\u001b[37m\u001b[0m \u001b[1m3s\u001b[0m 13ms/step - loss: 5.0020\n",
      "Epoch 18/50\n",
      "\u001b[1m227/227\u001b[0m \u001b[32m━━━━━━━━━━━━━━━━━━━━\u001b[0m\u001b[37m\u001b[0m \u001b[1m3s\u001b[0m 12ms/step - loss: 3.7430\n",
      "Epoch 19/50\n",
      "\u001b[1m227/227\u001b[0m \u001b[32m━━━━━━━━━━━━━━━━━━━━\u001b[0m\u001b[37m\u001b[0m \u001b[1m3s\u001b[0m 12ms/step - loss: 2.9914\n",
      "Epoch 20/50\n",
      "\u001b[1m227/227\u001b[0m \u001b[32m━━━━━━━━━━━━━━━━━━━━\u001b[0m\u001b[37m\u001b[0m \u001b[1m3s\u001b[0m 13ms/step - loss: 2.4282\n",
      "Epoch 21/50\n",
      "\u001b[1m227/227\u001b[0m \u001b[32m━━━━━━━━━━━━━━━━━━━━\u001b[0m\u001b[37m\u001b[0m \u001b[1m3s\u001b[0m 12ms/step - loss: 2.0979\n",
      "Epoch 22/50\n",
      "\u001b[1m227/227\u001b[0m \u001b[32m━━━━━━━━━━━━━━━━━━━━\u001b[0m\u001b[37m\u001b[0m \u001b[1m3s\u001b[0m 12ms/step - loss: 1.9327\n",
      "Epoch 23/50\n",
      "\u001b[1m227/227\u001b[0m \u001b[32m━━━━━━━━━━━━━━━━━━━━\u001b[0m\u001b[37m\u001b[0m \u001b[1m3s\u001b[0m 12ms/step - loss: 1.8149\n",
      "Epoch 24/50\n",
      "\u001b[1m227/227\u001b[0m \u001b[32m━━━━━━━━━━━━━━━━━━━━\u001b[0m\u001b[37m\u001b[0m \u001b[1m3s\u001b[0m 12ms/step - loss: 1.6486\n",
      "Epoch 25/50\n",
      "\u001b[1m227/227\u001b[0m \u001b[32m━━━━━━━━━━━━━━━━━━━━\u001b[0m\u001b[37m\u001b[0m \u001b[1m3s\u001b[0m 13ms/step - loss: 1.4886\n",
      "Epoch 26/50\n",
      "\u001b[1m227/227\u001b[0m \u001b[32m━━━━━━━━━━━━━━━━━━━━\u001b[0m\u001b[37m\u001b[0m \u001b[1m3s\u001b[0m 12ms/step - loss: 1.4269\n",
      "Epoch 27/50\n",
      "\u001b[1m227/227\u001b[0m \u001b[32m━━━━━━━━━━━━━━━━━━━━\u001b[0m\u001b[37m\u001b[0m \u001b[1m3s\u001b[0m 11ms/step - loss: 1.3642\n",
      "Epoch 28/50\n",
      "\u001b[1m227/227\u001b[0m \u001b[32m━━━━━━━━━━━━━━━━━━━━\u001b[0m\u001b[37m\u001b[0m \u001b[1m2s\u001b[0m 11ms/step - loss: 1.2770\n",
      "Epoch 29/50\n",
      "\u001b[1m227/227\u001b[0m \u001b[32m━━━━━━━━━━━━━━━━━━━━\u001b[0m\u001b[37m\u001b[0m \u001b[1m3s\u001b[0m 11ms/step - loss: 1.1850\n",
      "Epoch 30/50\n",
      "\u001b[1m227/227\u001b[0m \u001b[32m━━━━━━━━━━━━━━━━━━━━\u001b[0m\u001b[37m\u001b[0m \u001b[1m3s\u001b[0m 11ms/step - loss: 1.1510\n",
      "Epoch 31/50\n",
      "\u001b[1m227/227\u001b[0m \u001b[32m━━━━━━━━━━━━━━━━━━━━\u001b[0m\u001b[37m\u001b[0m \u001b[1m3s\u001b[0m 11ms/step - loss: 1.1166\n",
      "Epoch 32/50\n",
      "\u001b[1m227/227\u001b[0m \u001b[32m━━━━━━━━━━━━━━━━━━━━\u001b[0m\u001b[37m\u001b[0m \u001b[1m3s\u001b[0m 11ms/step - loss: 1.0828\n",
      "Epoch 33/50\n",
      "\u001b[1m227/227\u001b[0m \u001b[32m━━━━━━━━━━━━━━━━━━━━\u001b[0m\u001b[37m\u001b[0m \u001b[1m3s\u001b[0m 11ms/step - loss: 1.0466\n",
      "Epoch 34/50\n",
      "\u001b[1m227/227\u001b[0m \u001b[32m━━━━━━━━━━━━━━━━━━━━\u001b[0m\u001b[37m\u001b[0m \u001b[1m3s\u001b[0m 11ms/step - loss: 1.0159\n",
      "Epoch 35/50\n",
      "\u001b[1m227/227\u001b[0m \u001b[32m━━━━━━━━━━━━━━━━━━━━\u001b[0m\u001b[37m\u001b[0m \u001b[1m3s\u001b[0m 11ms/step - loss: 0.9945\n",
      "Epoch 36/50\n",
      "\u001b[1m227/227\u001b[0m \u001b[32m━━━━━━━━━━━━━━━━━━━━\u001b[0m\u001b[37m\u001b[0m \u001b[1m2s\u001b[0m 11ms/step - loss: 0.9418\n",
      "Epoch 37/50\n",
      "\u001b[1m227/227\u001b[0m \u001b[32m━━━━━━━━━━━━━━━━━━━━\u001b[0m\u001b[37m\u001b[0m \u001b[1m3s\u001b[0m 11ms/step - loss: 0.9099\n",
      "Epoch 38/50\n",
      "\u001b[1m227/227\u001b[0m \u001b[32m━━━━━━━━━━━━━━━━━━━━\u001b[0m\u001b[37m\u001b[0m \u001b[1m3s\u001b[0m 11ms/step - loss: 0.8880\n",
      "Epoch 39/50\n",
      "\u001b[1m227/227\u001b[0m \u001b[32m━━━━━━━━━━━━━━━━━━━━\u001b[0m\u001b[37m\u001b[0m \u001b[1m2s\u001b[0m 11ms/step - loss: 0.8844\n",
      "Epoch 40/50\n",
      "\u001b[1m227/227\u001b[0m \u001b[32m━━━━━━━━━━━━━━━━━━━━\u001b[0m\u001b[37m\u001b[0m \u001b[1m2s\u001b[0m 11ms/step - loss: 0.8867\n",
      "Epoch 41/50\n",
      "\u001b[1m227/227\u001b[0m \u001b[32m━━━━━━━━━━━━━━━━━━━━\u001b[0m\u001b[37m\u001b[0m \u001b[1m3s\u001b[0m 11ms/step - loss: 0.8556\n",
      "Epoch 42/50\n",
      "\u001b[1m227/227\u001b[0m \u001b[32m━━━━━━━━━━━━━━━━━━━━\u001b[0m\u001b[37m\u001b[0m \u001b[1m3s\u001b[0m 11ms/step - loss: 0.8362\n",
      "Epoch 43/50\n",
      "\u001b[1m227/227\u001b[0m \u001b[32m━━━━━━━━━━━━━━━━━━━━\u001b[0m\u001b[37m\u001b[0m \u001b[1m2s\u001b[0m 11ms/step - loss: 0.8450\n",
      "Epoch 44/50\n",
      "\u001b[1m227/227\u001b[0m \u001b[32m━━━━━━━━━━━━━━━━━━━━\u001b[0m\u001b[37m\u001b[0m \u001b[1m2s\u001b[0m 11ms/step - loss: 0.8341\n",
      "Epoch 45/50\n",
      "\u001b[1m227/227\u001b[0m \u001b[32m━━━━━━━━━━━━━━━━━━━━\u001b[0m\u001b[37m\u001b[0m \u001b[1m3s\u001b[0m 11ms/step - loss: 0.8096\n",
      "Epoch 46/50\n",
      "\u001b[1m227/227\u001b[0m \u001b[32m━━━━━━━━━━━━━━━━━━━━\u001b[0m\u001b[37m\u001b[0m \u001b[1m2s\u001b[0m 11ms/step - loss: 0.8192\n",
      "Epoch 47/50\n",
      "\u001b[1m227/227\u001b[0m \u001b[32m━━━━━━━━━━━━━━━━━━━━\u001b[0m\u001b[37m\u001b[0m \u001b[1m3s\u001b[0m 11ms/step - loss: 0.8227\n",
      "Epoch 48/50\n",
      "\u001b[1m227/227\u001b[0m \u001b[32m━━━━━━━━━━━━━━━━━━━━\u001b[0m\u001b[37m\u001b[0m \u001b[1m3s\u001b[0m 11ms/step - loss: 0.8103\n",
      "Epoch 49/50\n",
      "\u001b[1m227/227\u001b[0m \u001b[32m━━━━━━━━━━━━━━━━━━━━\u001b[0m\u001b[37m\u001b[0m \u001b[1m3s\u001b[0m 11ms/step - loss: 0.7916\n",
      "Epoch 50/50\n",
      "\u001b[1m227/227\u001b[0m \u001b[32m━━━━━━━━━━━━━━━━━━━━\u001b[0m\u001b[37m\u001b[0m \u001b[1m3s\u001b[0m 11ms/step - loss: 0.7922\n",
      "Modelo entrenado exitosamente\n"
     ]
    }
   ],
   "source": [
    "epochs = 50\n",
    "\n",
    "history = model.fit(X, y, epochs=epochs, verbose=1, callbacks=[keras.callbacks.EarlyStopping(monitor='val_loss', patience=5)])\n",
    "\n",
    "print(\"Modelo entrenado exitosamente\")"
   ]
  },
  {
   "cell_type": "markdown",
   "id": "f7fd2a1d",
   "metadata": {},
   "source": [
    "### Creamos los valores de prediccion\n"
   ]
  },
  {
   "cell_type": "code",
   "execution_count": 61,
   "id": "9e17d395",
   "metadata": {},
   "outputs": [
    {
     "name": "stdout",
     "output_type": "stream",
     "text": [
      "\u001b[1m227/227\u001b[0m \u001b[32m━━━━━━━━━━━━━━━━━━━━\u001b[0m\u001b[37m\u001b[0m \u001b[1m2s\u001b[0m 7ms/step\n",
      "Predicciones: \n",
      " [[70.84158 ]\n",
      " [70.87114 ]\n",
      " [71.15417 ]\n",
      " ...\n",
      " [72.67326 ]\n",
      " [72.079926]\n",
      " [71.463425]]\n",
      "Errores: \n",
      " [ 0.50115886  0.71558857 -0.17716602 ... -0.6266981  -0.25469906\n",
      "  1.1206639 ]\n"
     ]
    }
   ],
   "source": [
    "predictions = model.predict(X)\n",
    "errors = y - predictions.flatten()\n",
    "print(\"Predicciones: \\n\", predictions)\n",
    "print(\"Errores: \\n\", errors)"
   ]
  },
  {
   "cell_type": "markdown",
   "id": "5f2a7904",
   "metadata": {},
   "source": [
    "### Threshold y deteccion de anomalias"
   ]
  },
  {
   "cell_type": "code",
   "execution_count": 64,
   "id": "7704eaa9",
   "metadata": {},
   "outputs": [
    {
     "name": "stdout",
     "output_type": "stream",
     "text": [
      "Rango Intercuartil de los errores:  1.1829205699902303\n",
      "Anomalías detectadas en los índices:  [  11   88  130  138  256  304  330  350  424  440  520  586  594  636\n",
      "  706  756  757  890  893  921  987 1058 1070 1112 1155 1277 1355 1533\n",
      " 1581 1695 1725 2091 2092 2111 2369 2626 3125 3428 3673 3674 3675 3678\n",
      " 3693 3694 3695 3696 3697 3698 3699 3700 3701 3702 3703 3704 3705 3706\n",
      " 4075 4197 4201 4554 4630 4914 4963 5054 5080 5411 5458 5459 5462 5464\n",
      " 5488 5511 5530 5531 5576 5598 5625 5697 5719 5720 5791 5836 5859 5861\n",
      " 5862 5872 5873 5921 5924 5944 6016 6029 6048 6077 6108 6203 6205 6206\n",
      " 6211 6229 6275 6349 6420 6516 6598 6684 6732 6780 6804 6852 6853 6877\n",
      " 6921 6925 7022 7033 7046 7047 7056 7066 7070 7079 7092 7132 7187 7188\n",
      " 7189 7196 7212 7213 7235]\n",
      "Número de anomalías detectadas:  131\n"
     ]
    }
   ],
   "source": [
    "error_IQR = np.percentile(errors, 75) - np.percentile(errors, 25)\n",
    "print(\"Rango Intercuartil de los errores: \", error_IQR)\n",
    "anomalies = np.where(np.abs(errors) > 1.7 * error_IQR)[0]\n",
    "print(\"Anomalías detectadas en los índices: \", anomalies)\n",
    "print(\"Número de anomalías detectadas: \", len(anomalies))\n",
    "error_df = df.iloc[anomalies]"
   ]
  },
  {
   "cell_type": "markdown",
   "id": "e6217741",
   "metadata": {},
   "source": [
    "### Graficamos anomalias"
   ]
  },
  {
   "cell_type": "code",
   "execution_count": 67,
   "id": "d02fbb7f",
   "metadata": {},
   "outputs": [
    {
     "data": {
      "image/png": "[encoded data removed]",
      "text/plain": [
       "<Figure size 640x480 with 1 Axes>"
      ]
     },
     "metadata": {},
     "output_type": "display_data"
    }
   ],
   "source": [
    "plt.plot(df['timestamp'], df['value'], label='Valor real')\n",
    "plt.scatter(\n",
    "    df['timestamp'][anomalies],\n",
    "    df['value'][anomalies],\n",
    "    color='red',\n",
    "    label='Anomalías')\n",
    "plt.xticks(df['timestamp'][::len(df)//10], rotation=45)\n",
    "plt.legend()\n",
    "plt.show()"
   ]
  }
 ],
 "metadata": {
  "kernelspec": {
   "display_name": "venv",
   "language": "python",
   "name": "python3"
  },
  "language_info": {
   "codemirror_mode": {
    "name": "ipython",
    "version": 3
   },
   "file_extension": ".py",
   "mimetype": "text/x-python",
   "name": "python",
   "nbconvert_exporter": "python",
   "pygments_lexer": "ipython3",
   "version": "3.13.7"
  }
 },
 "nbformat": 4,
 "nbformat_minor": 5
}
